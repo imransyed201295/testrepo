{
 "cells": [
  {
   "cell_type": "markdown",
   "id": "a6f3a72a-eea3-4307-8513-c9b688c72134",
   "metadata": {},
   "source": [
    "#Execute it as a markdown cell\n",
    "# H1: Data Science Tools and Ecosystem"
   ]
  },
  {
   "cell_type": "markdown",
   "id": "7b303914-c0aa-48f9-9f48-60ead9bba777",
   "metadata": {},
   "source": [
    "In this notebook, Data Science Tools and Ecosystem are summarized."
   ]
  },
  {
   "cell_type": "markdown",
   "id": "af029b63-4250-46d9-9f45-faeb3b417d6a",
   "metadata": {},
   "source": [
    "Some of the popular languages that Data Scientists use are:"
   ]
  },
  {
   "cell_type": "markdown",
   "id": "6b13484f-dd2d-4418-b4f2-31c168640089",
   "metadata": {},
   "source": [
    "#Execute it as a markdown cell\n",
    "#H1: Python\n",
    "#H2: R\n",
    "#H3: Java"
   ]
  },
  {
   "cell_type": "markdown",
   "id": "1f8fa054-bfcd-4ec9-a445-bd7e50f4d778",
   "metadata": {},
   "source": [
    "#Execute it as markdown cell\n",
    "Some of the commonly used libraries used by Data Scientists include:\n",
    "#H1: Numpy\n",
    "##H2: Tensor Flow\n",
    "###H3: NLTK"
   ]
  },
  {
   "cell_type": "markdown",
   "id": "ae1d2b0f-4bd1-445f-ab9e-7d7af858e52a",
   "metadata": {},
   "source": [
    "#Execute it as markdown cell\n",
    "#H: **Numpy**\n",
    "##H: **Tensor Flow**\n",
    "###H: **NLTK**"
   ]
  },
  {
   "cell_type": "markdown",
   "id": "fd3a5fae-1c05-439b-b904-d250b9d71dcc",
   "metadata": {
    "jp-MarkdownHeadingCollapsed": true,
    "tags": []
   },
   "source": [
    "## Execute as a markdown cell \n",
    "| Data Science Tools | \n",
    "| -------------------|\n",
    "| Python |\n",
    "| R |\n",
    "| Jupyter |"
   ]
  },
  {
   "cell_type": "markdown",
   "id": "2b3613a4-9107-4c8f-9a61-dc7340a49d9b",
   "metadata": {},
   "source": [
    "##Excecute it as a markdown cell\n",
    "# H1 (3*4)+5"
   ]
  },
  {
   "cell_type": "code",
   "execution_count": 5,
   "id": "7a706b7a-e526-4d0b-a6ba-e380b5fafef9",
   "metadata": {},
   "outputs": [
    {
     "data": {
      "text/plain": [
       "17"
      ]
     },
     "execution_count": 5,
     "metadata": {},
     "output_type": "execute_result"
    }
   ],
   "source": [
    "# This a simple arithmetic expression to mutiply then add integers\n",
    "(3*4)+5"
   ]
  },
  {
   "cell_type": "code",
   "execution_count": 6,
   "id": "99010cfc-6130-4855-9986-18b244eb0725",
   "metadata": {},
   "outputs": [
    {
     "data": {
      "text/plain": [
       "3.3333333333333335"
      ]
     },
     "execution_count": 6,
     "metadata": {},
     "output_type": "execute_result"
    }
   ],
   "source": [
    "# This will convert 200 minutes to hours by diving by 60\n",
    "hours = 200 / 60\n",
    "hours"
   ]
  },
  {
   "cell_type": "code",
   "execution_count": null,
   "id": "d1542365-2b30-435c-8e71-ee7a4bb1d495",
   "metadata": {},
   "outputs": [],
   "source": []
  }
 ],
 "metadata": {
  "kernelspec": {
   "display_name": "Python 3 (ipykernel)",
   "language": "python",
   "name": "python3"
  },
  "language_info": {
   "codemirror_mode": {
    "name": "ipython",
    "version": 3
   },
   "file_extension": ".py",
   "mimetype": "text/x-python",
   "name": "python",
   "nbconvert_exporter": "python",
   "pygments_lexer": "ipython3",
   "version": "3.10.9"
  }
 },
 "nbformat": 4,
 "nbformat_minor": 5
}
